{
  "nbformat": 4,
  "nbformat_minor": 0,
  "metadata": {
    "colab": {
      "provenance": [],
      "authorship_tag": "ABX9TyN6aiVqOy2B/tjTfiYmw/rb",
      "include_colab_link": true
    },
    "kernelspec": {
      "name": "python3",
      "display_name": "Python 3"
    },
    "language_info": {
      "name": "python"
    }
  },
  "cells": [
    {
      "cell_type": "markdown",
      "metadata": {
        "id": "view-in-github",
        "colab_type": "text"
      },
      "source": [
        "<a href=\"https://colab.research.google.com/github/pedrohcr16/Numpy/blob/main/Exercicio_3_Numpy.ipynb\" target=\"_parent\"><img src=\"https://colab.research.google.com/assets/colab-badge.svg\" alt=\"Open In Colab\"/></a>"
      ]
    },
    {
      "cell_type": "markdown",
      "source": [
        "**3. Crie uma array com 3 dimensões, onde a primeira dimensão são os dias da semana (seg a dom), a segunda dimensão são as semanas do mês (considerar 4 semanas para todos os meses) e a terceira são os meses do ano (Jan a Dez).**\n",
        "\n",
        "    1.Marque os finais de semana com a letra W\n",
        "\n",
        "    2.Marque o começo do mês com a letra S\n",
        "\n",
        "    3.Marque o final do mês com a letra E\n",
        "\n",
        "    4.Marque os demais dias com a letra D\n",
        "\n",
        "    5.Marque os feriados nacionais com a letra F\n",
        "\n",
        "    * 01/01 - Ano Novo\n",
        "    * 15/04 - Paixão de Cristo\n",
        "    * 21/04 - Tiradentes\n",
        "    * 01/05 - Dia do Trabalho\n",
        "    * 07/09 - Independência do Brasil\n",
        "    * 12/10 - Nossa Senhora Aparecida\n",
        "    * 02/11 - Finados\n",
        "    * 15/11 - Proclamação da República\n",
        "    * 25/12 - Natal"
      ],
      "metadata": {
        "id": "ARrMmN1WTZ4V"
      }
    },
    {
      "cell_type": "code",
      "execution_count": 1,
      "metadata": {
        "id": "Yl4rKDcYTO2Q"
      },
      "outputs": [],
      "source": [
        "import numpy as np"
      ]
    },
    {
      "cell_type": "code",
      "source": [
        "calendario = np.full ([12, 4, 7],'') #Criação da Array\n",
        "calendario [:, :,-2:] = 'W' #Item 1\n",
        "calendario [:, 0, 0] = 'S' #Item 2\n",
        "calendario [:, -1, -1] = 'E' #Item 3\n",
        "#Item 4\n",
        "vazio = calendario == ''\n",
        "calendario[vazio] = 'D'\n",
        "#Item 5\n",
        "mes = [0, 3, 3, 4, 8, 9, 10, 10, 11]\n",
        "semana = [0, 2, 2, 0, 0, 1, 0, 2, 3]\n",
        "dia = [0, 0, 6, 0, 6, 4, 1, 0, 3]\n",
        "calendario[mes, semana, dia] = 'F'\n",
        "calendario"
      ],
      "metadata": {
        "colab": {
          "base_uri": "https://localhost:8080/"
        },
        "id": "HB7oAG9oWFkQ",
        "outputId": "09472f8c-8b13-4247-a435-e985dffc05f3"
      },
      "execution_count": 69,
      "outputs": [
        {
          "output_type": "execute_result",
          "data": {
            "text/plain": [
              "array([[['F', 'D', 'D', 'D', 'D', 'W', 'W'],\n",
              "        ['D', 'D', 'D', 'D', 'D', 'W', 'W'],\n",
              "        ['D', 'D', 'D', 'D', 'D', 'W', 'W'],\n",
              "        ['D', 'D', 'D', 'D', 'D', 'W', 'E']],\n",
              "\n",
              "       [['S', 'D', 'D', 'D', 'D', 'W', 'W'],\n",
              "        ['D', 'D', 'D', 'D', 'D', 'W', 'W'],\n",
              "        ['D', 'D', 'D', 'D', 'D', 'W', 'W'],\n",
              "        ['D', 'D', 'D', 'D', 'D', 'W', 'E']],\n",
              "\n",
              "       [['S', 'D', 'D', 'D', 'D', 'W', 'W'],\n",
              "        ['D', 'D', 'D', 'D', 'D', 'W', 'W'],\n",
              "        ['D', 'D', 'D', 'D', 'D', 'W', 'W'],\n",
              "        ['D', 'D', 'D', 'D', 'D', 'W', 'E']],\n",
              "\n",
              "       [['S', 'D', 'D', 'D', 'D', 'W', 'W'],\n",
              "        ['D', 'D', 'D', 'D', 'D', 'W', 'W'],\n",
              "        ['F', 'D', 'D', 'D', 'D', 'W', 'F'],\n",
              "        ['D', 'D', 'D', 'D', 'D', 'W', 'E']],\n",
              "\n",
              "       [['F', 'D', 'D', 'D', 'D', 'W', 'W'],\n",
              "        ['D', 'D', 'D', 'D', 'D', 'W', 'W'],\n",
              "        ['D', 'D', 'D', 'D', 'D', 'W', 'W'],\n",
              "        ['D', 'D', 'D', 'D', 'D', 'W', 'E']],\n",
              "\n",
              "       [['S', 'D', 'D', 'D', 'D', 'W', 'W'],\n",
              "        ['D', 'D', 'D', 'D', 'D', 'W', 'W'],\n",
              "        ['D', 'D', 'D', 'D', 'D', 'W', 'W'],\n",
              "        ['D', 'D', 'D', 'D', 'D', 'W', 'E']],\n",
              "\n",
              "       [['S', 'D', 'D', 'D', 'D', 'W', 'W'],\n",
              "        ['D', 'D', 'D', 'D', 'D', 'W', 'W'],\n",
              "        ['D', 'D', 'D', 'D', 'D', 'W', 'W'],\n",
              "        ['D', 'D', 'D', 'D', 'D', 'W', 'E']],\n",
              "\n",
              "       [['S', 'D', 'D', 'D', 'D', 'W', 'W'],\n",
              "        ['D', 'D', 'D', 'D', 'D', 'W', 'W'],\n",
              "        ['D', 'D', 'D', 'D', 'D', 'W', 'W'],\n",
              "        ['D', 'D', 'D', 'D', 'D', 'W', 'E']],\n",
              "\n",
              "       [['S', 'D', 'D', 'D', 'D', 'W', 'F'],\n",
              "        ['D', 'D', 'D', 'D', 'D', 'W', 'W'],\n",
              "        ['D', 'D', 'D', 'D', 'D', 'W', 'W'],\n",
              "        ['D', 'D', 'D', 'D', 'D', 'W', 'E']],\n",
              "\n",
              "       [['S', 'D', 'D', 'D', 'D', 'W', 'W'],\n",
              "        ['D', 'D', 'D', 'D', 'F', 'W', 'W'],\n",
              "        ['D', 'D', 'D', 'D', 'D', 'W', 'W'],\n",
              "        ['D', 'D', 'D', 'D', 'D', 'W', 'E']],\n",
              "\n",
              "       [['S', 'F', 'D', 'D', 'D', 'W', 'W'],\n",
              "        ['D', 'D', 'D', 'D', 'D', 'W', 'W'],\n",
              "        ['F', 'D', 'D', 'D', 'D', 'W', 'W'],\n",
              "        ['D', 'D', 'D', 'D', 'D', 'W', 'E']],\n",
              "\n",
              "       [['S', 'D', 'D', 'D', 'D', 'W', 'W'],\n",
              "        ['D', 'D', 'D', 'D', 'D', 'W', 'W'],\n",
              "        ['D', 'D', 'D', 'D', 'D', 'W', 'W'],\n",
              "        ['D', 'D', 'D', 'F', 'D', 'W', 'E']]], dtype='<U1')"
            ]
          },
          "metadata": {},
          "execution_count": 69
        }
      ]
    },
    {
      "cell_type": "code",
      "source": [],
      "metadata": {
        "id": "RY8VYdbRW3yf"
      },
      "execution_count": 16,
      "outputs": []
    }
  ]
}
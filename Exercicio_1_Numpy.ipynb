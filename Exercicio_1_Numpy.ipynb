{
  "cells": [
    {
      "cell_type": "markdown",
      "metadata": {
        "id": "view-in-github",
        "colab_type": "text"
      },
      "source": [
        "<a href=\"https://colab.research.google.com/github/pedrohcr16/Numpy/blob/main/Exercicio_1_Numpy.ipynb\" target=\"_parent\"><img src=\"https://colab.research.google.com/assets/colab-badge.svg\" alt=\"Open In Colab\"/></a>"
      ]
    },
    {
      "cell_type": "markdown",
      "source": [
        "1.**Utilizando uma biblioteca numpy siga as instruções abaixo**:\n",
        "\n",
        "    1.Crie uma array 6x6 preenchida com zero.\n",
        "\n",
        "    2.Preencha o centro desse array  com uma array preenchida com 4x4 com nº 1.\n",
        "\n",
        "    3.Preencha o centro desse array  com uma array preenchida com 2x2 com nº 2.\n",
        "\n",
        "    4.Gere um segundo array 6x6 numeros inteiros aleatórios entre 0 e 2 (seed 0).\n",
        "\n",
        "    5.Subtraia o primeiro array pelo segundo."
      ],
      "metadata": {
        "id": "QZ0dbccZqlp6"
      }
    },
    {
      "cell_type": "code",
      "source": [
        "import numpy as np"
      ],
      "metadata": {
        "id": "VIQ3VBBtihLD"
      },
      "execution_count": null,
      "outputs": []
    },
    {
      "cell_type": "code",
      "source": [
        "array_1 = np.full ((6,6),0)\n",
        "array_1"
      ],
      "metadata": {
        "id": "gFy0jQCsi3ua",
        "outputId": "150d6c1b-9770-45ef-c202-3269f88f7133",
        "colab": {
          "base_uri": "https://localhost:8080/"
        }
      },
      "execution_count": null,
      "outputs": [
        {
          "output_type": "execute_result",
          "data": {
            "text/plain": [
              "array([[0, 0, 0, 0, 0, 0],\n",
              "       [0, 0, 0, 0, 0, 0],\n",
              "       [0, 0, 0, 0, 0, 0],\n",
              "       [0, 0, 0, 0, 0, 0],\n",
              "       [0, 0, 0, 0, 0, 0],\n",
              "       [0, 0, 0, 0, 0, 0]])"
            ]
          },
          "metadata": {},
          "execution_count": 24
        }
      ]
    },
    {
      "cell_type": "code",
      "source": [
        "array_2 = array_1.copy()\n",
        "array_2 [1:-1, 1:-1] = np.full((4,4),1)\n",
        "array_2"
      ],
      "metadata": {
        "id": "_X2L6xujkbp8",
        "outputId": "f23476df-ee79-468e-92a6-13fc9d4695f7",
        "colab": {
          "base_uri": "https://localhost:8080/"
        }
      },
      "execution_count": null,
      "outputs": [
        {
          "output_type": "execute_result",
          "data": {
            "text/plain": [
              "array([[0, 0, 0, 0, 0, 0],\n",
              "       [0, 1, 1, 1, 1, 0],\n",
              "       [0, 1, 1, 1, 1, 0],\n",
              "       [0, 1, 1, 1, 1, 0],\n",
              "       [0, 1, 1, 1, 1, 0],\n",
              "       [0, 0, 0, 0, 0, 0]])"
            ]
          },
          "metadata": {},
          "execution_count": 25
        }
      ]
    },
    {
      "cell_type": "code",
      "source": [
        "array_3 = array_2.copy()\n",
        "array_3 [2:-2, 2:-2] = np.full((2,2),2)\n",
        "array_3"
      ],
      "metadata": {
        "id": "Q4bQoKtwlzNS",
        "outputId": "b5504a31-d90a-4476-f7a3-bda908575510",
        "colab": {
          "base_uri": "https://localhost:8080/"
        }
      },
      "execution_count": null,
      "outputs": [
        {
          "output_type": "execute_result",
          "data": {
            "text/plain": [
              "array([[0, 0, 0, 0, 0, 0],\n",
              "       [0, 1, 1, 1, 1, 0],\n",
              "       [0, 1, 2, 2, 1, 0],\n",
              "       [0, 1, 2, 2, 1, 0],\n",
              "       [0, 1, 1, 1, 1, 0],\n",
              "       [0, 0, 0, 0, 0, 0]])"
            ]
          },
          "metadata": {},
          "execution_count": 26
        }
      ]
    },
    {
      "cell_type": "code",
      "source": [
        "np.random.seed(0)\n",
        "array_4 = np.random.randint(low=0, high=3, size= (6,6))\n",
        "array_4"
      ],
      "metadata": {
        "id": "DXE1xdzRsLyT",
        "outputId": "76bfa40f-bc65-4594-aa1b-3517b583f755",
        "colab": {
          "base_uri": "https://localhost:8080/"
        }
      },
      "execution_count": null,
      "outputs": [
        {
          "output_type": "execute_result",
          "data": {
            "text/plain": [
              "array([[0, 1, 0, 1, 1, 2],\n",
              "       [0, 2, 0, 0, 0, 2],\n",
              "       [1, 2, 2, 0, 1, 1],\n",
              "       [1, 1, 0, 1, 0, 0],\n",
              "       [1, 2, 0, 2, 0, 1],\n",
              "       [1, 2, 0, 1, 1, 1]])"
            ]
          },
          "metadata": {},
          "execution_count": 45
        }
      ]
    },
    {
      "cell_type": "code",
      "source": [
        "array_3 - array_4"
      ],
      "metadata": {
        "id": "fJ2sHt3Aw-W5",
        "outputId": "7045afa7-060b-44cf-c809-d8a5de3b89aa",
        "colab": {
          "base_uri": "https://localhost:8080/"
        }
      },
      "execution_count": null,
      "outputs": [
        {
          "output_type": "execute_result",
          "data": {
            "text/plain": [
              "array([[ 0, -1,  0, -1, -1, -2],\n",
              "       [ 0, -1,  1,  1,  1, -2],\n",
              "       [-1, -1,  0,  2,  0, -1],\n",
              "       [-1,  0,  2,  1,  1,  0],\n",
              "       [-1, -1,  1, -1,  1, -1],\n",
              "       [-1, -2,  0, -1, -1, -1]])"
            ]
          },
          "metadata": {},
          "execution_count": 46
        }
      ]
    }
  ],
  "metadata": {
    "colab": {
      "toc_visible": true,
      "provenance": [],
      "include_colab_link": true
    },
    "kernelspec": {
      "display_name": "Python 3",
      "name": "python3"
    }
  },
  "nbformat": 4,
  "nbformat_minor": 0
}